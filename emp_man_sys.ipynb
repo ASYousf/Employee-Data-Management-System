{
 "cells": [
  {
   "cell_type": "code",
   "execution_count": 1,
   "id": "b7768b72-257b-4bf2-b8be-d1b5722113f8",
   "metadata": {},
   "outputs": [],
   "source": [
    "import csv\n",
    "import os"
   ]
  },
  {
   "cell_type": "markdown",
   "id": "eb219568-c683-4d1d-88eb-16863ac63076",
   "metadata": {},
   "source": [
    "## Create the EmployeeManager Class"
   ]
  },
  {
   "cell_type": "code",
   "execution_count": 2,
   "id": "f287398f-8143-41f0-be74-41d133ae3604",
   "metadata": {},
   "outputs": [],
   "source": [
    "class EmployeeManager:\n",
    "    def __init__(self, filename=\"employees.csv\"):\n",
    "        self.filename = filename\n",
    "        self.employees = {}\n",
    "        self.load_from_csv()\n",
    "\n",
    "    def load_from_csv(self):\n",
    "        if os.path.exists(self.filename):\n",
    "            with open(self.filename, mode=\"r\", newline=\"\") as file:\n",
    "                reader = csv.DictReader(file)\n",
    "                for row in reader:\n",
    "                    self.employees[row[\"ID\"]] = row\n",
    "\n",
    "    def save_to_csv(self):\n",
    "        with open(self.filename, mode=\"w\", newline=\"\") as file:\n",
    "            fieldnames = [\"ID\", \"Name\", \"Position\", \"Salary\", \"Email\"]\n",
    "            writer = csv.DictWriter(file, fieldnames=fieldnames)\n",
    "            writer.writeheader()\n",
    "            for emp in self.employees.values():\n",
    "                writer.writerow(emp)\n",
    "\n",
    "    def add_employee(self, emp_id, name, position, salary, email):\n",
    "        if emp_id in self.employees:\n",
    "            print(\"Employee already exists!\")\n",
    "            return\n",
    "        self.employees[emp_id] = {\n",
    "            \"ID\": emp_id,\n",
    "            \"Name\": name,\n",
    "            \"Position\": position,\n",
    "            \"Salary\": salary,\n",
    "            \"Email\": email\n",
    "        }\n",
    "        self.save_to_csv()\n",
    "        print(\"Employee added successfully!\")\n",
    "\n",
    "    def view_all(self):\n",
    "        if not self.employees:\n",
    "            print(\"No employees found.\")\n",
    "        else:\n",
    "            for emp in self.employees.values():\n",
    "                print(emp)\n",
    "\n",
    "    def update_employee(self, emp_id, name=None, position=None, salary=None, email=None):\n",
    "        if emp_id not in self.employees:\n",
    "            print(\"Employee not found!\")\n",
    "            return\n",
    "        emp = self.employees[emp_id]\n",
    "        if name: emp[\"Name\"] = name\n",
    "        if position: emp[\"Position\"] = position\n",
    "        if salary: emp[\"Salary\"] = salary\n",
    "        if email: emp[\"Email\"] = email\n",
    "\n",
    "        self.save_to_csv()\n",
    "        print(\"Employee updated successfully!\")\n",
    "\n",
    "    def delete_employee(self, emp_id):\n",
    "        if emp_id in self.employees:\n",
    "            del self.employees[emp_id]\n",
    "            self.save_to_csv()\n",
    "            print(\"Employee deleted successfully!\")\n",
    "        else:\n",
    "            print(\"Employee not found!\")\n",
    "\n",
    "    def search_employee(self, emp_id):\n",
    "        if emp_id in self.employees:\n",
    "            print(self.employees[emp_id])\n",
    "        else:\n",
    "            print(\"Employee not found!\")\n"
   ]
  },
  {
   "cell_type": "markdown",
   "id": "ce40a4ce-9b6c-437d-bb0a-4f6152b3e03d",
   "metadata": {},
   "source": [
    "## Adding Employees"
   ]
  },
  {
   "cell_type": "code",
   "execution_count": 3,
   "id": "c55d53ef-0940-4428-bf7f-59d535c52dbc",
   "metadata": {},
   "outputs": [
    {
     "name": "stdout",
     "output_type": "stream",
     "text": [
      "Employee added successfully!\n",
      "Employee added successfully!\n"
     ]
    }
   ],
   "source": [
    "manager = EmployeeManager()\n",
    "manager.add_employee(\"101\", \"Abdallah\", \"Engineer\", \"5000\", \"Abdallah@example.com\")\n",
    "manager.add_employee(\"102\", \"Hamada\", \"Manager\", \"7000\", \"Hamada@example.com\")"
   ]
  },
  {
   "cell_type": "markdown",
   "id": "2f618574-8f4d-4a19-841d-c4bdc2943322",
   "metadata": {},
   "source": [
    "## View All Employees"
   ]
  },
  {
   "cell_type": "code",
   "execution_count": 4,
   "id": "44698dd5-8064-45b7-8101-75e5f86545fc",
   "metadata": {},
   "outputs": [
    {
     "name": "stdout",
     "output_type": "stream",
     "text": [
      "{'ID': '101', 'Name': 'Abdallah', 'Position': 'Engineer', 'Salary': '5000', 'Email': 'Abdallah@example.com'}\n",
      "{'ID': '102', 'Name': 'Hamada', 'Position': 'Manager', 'Salary': '7000', 'Email': 'Hamada@example.com'}\n"
     ]
    }
   ],
   "source": [
    "manager.view_all()"
   ]
  },
  {
   "cell_type": "markdown",
   "id": "638ffc59-589e-4a5b-8d7e-ebadb8137696",
   "metadata": {},
   "source": [
    "## Search by ID"
   ]
  },
  {
   "cell_type": "code",
   "execution_count": 5,
   "id": "047e5f64-124f-4f0c-a44e-8e0160434b3a",
   "metadata": {},
   "outputs": [
    {
     "name": "stdout",
     "output_type": "stream",
     "text": [
      "{'ID': '101', 'Name': 'Abdallah', 'Position': 'Engineer', 'Salary': '5000', 'Email': 'Abdallah@example.com'}\n"
     ]
    }
   ],
   "source": [
    "manager.search_employee(\"101\")"
   ]
  },
  {
   "cell_type": "markdown",
   "id": "860dbce7-f92e-4803-b3f2-f46eeecff123",
   "metadata": {},
   "source": [
    "## Update Employee"
   ]
  },
  {
   "cell_type": "code",
   "execution_count": 6,
   "id": "96ef17fc-232c-4bdb-b62a-3190db2304ae",
   "metadata": {},
   "outputs": [
    {
     "name": "stdout",
     "output_type": "stream",
     "text": [
      "Employee updated successfully!\n"
     ]
    }
   ],
   "source": [
    "manager.update_employee(\"102\", salary=\"7500\", email=\"Hamada.new@example.com\")"
   ]
  },
  {
   "cell_type": "markdown",
   "id": "e37c411b-3c94-42ef-8c2a-b3cff65209f1",
   "metadata": {},
   "source": [
    "## Delete an Employee"
   ]
  },
  {
   "cell_type": "code",
   "execution_count": 7,
   "id": "9b35d9be-a9cb-43d5-86d3-b7d30bd20014",
   "metadata": {},
   "outputs": [
    {
     "name": "stdout",
     "output_type": "stream",
     "text": [
      "Employee deleted successfully!\n"
     ]
    }
   ],
   "source": [
    "manager.delete_employee(\"101\")"
   ]
  },
  {
   "cell_type": "code",
   "execution_count": null,
   "id": "d181f070-8120-4e89-b51d-955a0b649d29",
   "metadata": {},
   "outputs": [],
   "source": []
  },
  {
   "cell_type": "code",
   "execution_count": null,
   "id": "58166a02-52a1-4f45-bb1e-3dd703add42b",
   "metadata": {},
   "outputs": [],
   "source": []
  },
  {
   "cell_type": "code",
   "execution_count": null,
   "id": "63d8adbc-816d-4393-96c5-caa376a2487b",
   "metadata": {},
   "outputs": [],
   "source": []
  },
  {
   "cell_type": "code",
   "execution_count": null,
   "id": "fc8d6778-d1c1-457b-a211-d238a36ce498",
   "metadata": {},
   "outputs": [],
   "source": []
  },
  {
   "cell_type": "code",
   "execution_count": null,
   "id": "449c90fc-9db1-425e-88f0-56e04c40ceae",
   "metadata": {},
   "outputs": [],
   "source": []
  },
  {
   "cell_type": "code",
   "execution_count": null,
   "id": "5bbd6b71-9264-4592-aceb-bdc5fafb87d9",
   "metadata": {},
   "outputs": [],
   "source": []
  },
  {
   "cell_type": "code",
   "execution_count": null,
   "id": "de9dab2a-0b44-4752-80f2-02aaa59b340c",
   "metadata": {},
   "outputs": [],
   "source": []
  }
 ],
 "metadata": {
  "kernelspec": {
   "display_name": "Python 3 (ipykernel)",
   "language": "python",
   "name": "python3"
  },
  "language_info": {
   "codemirror_mode": {
    "name": "ipython",
    "version": 3
   },
   "file_extension": ".py",
   "mimetype": "text/x-python",
   "name": "python",
   "nbconvert_exporter": "python",
   "pygments_lexer": "ipython3",
   "version": "3.13.5"
  }
 },
 "nbformat": 4,
 "nbformat_minor": 5
}
